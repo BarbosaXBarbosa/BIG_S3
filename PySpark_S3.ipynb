{
  "nbformat": 4,
  "nbformat_minor": 0,
  "metadata": {
    "colab": {
      "provenance": [],
      "mount_file_id": "1wLxQuFeSRNWrknIdDVZ-Wk5-LqmUugXS",
      "authorship_tag": "ABX9TyMq3WfNGUI28Dkv6FmtFeJS",
      "include_colab_link": true
    },
    "kernelspec": {
      "name": "python3",
      "display_name": "Python 3"
    },
    "language_info": {
      "name": "python"
    }
  },
  "cells": [
    {
      "cell_type": "markdown",
      "metadata": {
        "id": "view-in-github",
        "colab_type": "text"
      },
      "source": [
        "<a href=\"https://colab.research.google.com/github/BarbosaXBarbosa/BIG_S3/blob/main/PySpark_S3.ipynb\" target=\"_parent\"><img src=\"https://colab.research.google.com/assets/colab-badge.svg\" alt=\"Open In Colab\"/></a>"
      ]
    },
    {
      "cell_type": "code",
      "execution_count": null,
      "metadata": {
        "id": "ub5VI4zUIEzZ"
      },
      "outputs": [],
      "source": [
        "# Criando ambiente Spark:\n",
        "\n",
        "## Instalando biblioteca\n",
        "!pip install pyspark\n",
        "from pyspark.sql import SparkSession\n",
        "from pyspark.sql import functions as f\n",
        "\n",
        "spark = SparkSession.builder.appName(\"SenaiBS3\").getOrCreate()"
      ]
    },
    {
      "cell_type": "code",
      "source": [
        "# Criando um DF manualmente através de listas\n",
        "dados = [\n",
        "    (\"joao\", 25, \"analista\", 3800),\n",
        "    (\"maria\", 38, \"analista\", 5500),\n",
        "    (\"marcos\", 22, \"estagiario\", 1000),\n",
        "    (\"fabio\", 35, \"assistente\", 2500),\n",
        "    (\"luis\", 40, \"gerente\", 11700),\n",
        "    (\"ana\", 39, \"gerente\", 15900)\n",
        "]"
      ],
      "metadata": {
        "id": "2wADy3P_LZye"
      },
      "execution_count": 4,
      "outputs": []
    },
    {
      "cell_type": "code",
      "source": [
        "# Cabeçalho\n",
        "colunas = [\"nome\", \"idade\", \"cargo\", \"salario\"]"
      ],
      "metadata": {
        "id": "n_v_9Wk6MsF4"
      },
      "execution_count": 5,
      "outputs": []
    },
    {
      "cell_type": "code",
      "source": [
        "# Criando DF Spark:\n",
        "df = spark.createDataFrame(dados, colunas)"
      ],
      "metadata": {
        "id": "LaRKWyEHQhl-"
      },
      "execution_count": 6,
      "outputs": []
    },
    {
      "cell_type": "code",
      "source": [
        "df.show()"
      ],
      "metadata": {
        "colab": {
          "base_uri": "https://localhost:8080/"
        },
        "id": "JnKrgGTBRVFY",
        "outputId": "91bde566-0a10-4f31-dab8-db13333efd04"
      },
      "execution_count": 8,
      "outputs": [
        {
          "output_type": "stream",
          "name": "stdout",
          "text": [
            "+------+-----+----------+-------+\n",
            "|  nome|idade|     cargo|salario|\n",
            "+------+-----+----------+-------+\n",
            "|  joao|   25|  analista|   3800|\n",
            "| maria|   38|  analista|   5500|\n",
            "|marcos|   22|estagiario|   1000|\n",
            "| fabio|   35|assistente|   2500|\n",
            "|  luis|   40|   gerente|  11700|\n",
            "|   ana|   39|   gerente|  15900|\n",
            "+------+-----+----------+-------+\n",
            "\n"
          ]
        }
      ]
    },
    {
      "cell_type": "code",
      "source": [
        "df.printSchema()"
      ],
      "metadata": {
        "colab": {
          "base_uri": "https://localhost:8080/"
        },
        "id": "4kanIlFmRZ-8",
        "outputId": "2b1b5acb-b350-4b6b-94d4-54d1efcc44ad"
      },
      "execution_count": 9,
      "outputs": [
        {
          "output_type": "stream",
          "name": "stdout",
          "text": [
            "root\n",
            " |-- nome: string (nullable = true)\n",
            " |-- idade: long (nullable = true)\n",
            " |-- cargo: string (nullable = true)\n",
            " |-- salario: long (nullable = true)\n",
            "\n"
          ]
        }
      ]
    },
    {
      "cell_type": "code",
      "source": [
        "# Filtrar elementos do df:\n",
        "df.where(\"cargo == 'gerente'\").show()"
      ],
      "metadata": {
        "colab": {
          "base_uri": "https://localhost:8080/"
        },
        "id": "BvJXzkZxYnzH",
        "outputId": "13825794-b7da-43b8-df93-e25c04747fa7"
      },
      "execution_count": 11,
      "outputs": [
        {
          "output_type": "stream",
          "name": "stdout",
          "text": [
            "+----+-----+-------+-------+\n",
            "|nome|idade|  cargo|salario|\n",
            "+----+-----+-------+-------+\n",
            "|luis|   40|gerente|  11700|\n",
            "| ana|   39|gerente|  15900|\n",
            "+----+-----+-------+-------+\n",
            "\n"
          ]
        }
      ]
    },
    {
      "cell_type": "code",
      "source": [
        "# Filtre apenas os funcionários que ganham menos de 3k\n",
        "df.where(\"salario < 3000\").show()"
      ],
      "metadata": {
        "colab": {
          "base_uri": "https://localhost:8080/"
        },
        "id": "5VIGQdSnYzMO",
        "outputId": "1118661a-ec58-4495-9956-1956dc44dc2b"
      },
      "execution_count": 14,
      "outputs": [
        {
          "output_type": "stream",
          "name": "stdout",
          "text": [
            "+------+-----+----------+-------+\n",
            "|  nome|idade|     cargo|salario|\n",
            "+------+-----+----------+-------+\n",
            "|marcos|   22|estagiario|   1000|\n",
            "| fabio|   35|assistente|   2500|\n",
            "+------+-----+----------+-------+\n",
            "\n"
          ]
        }
      ]
    },
    {
      "cell_type": "code",
      "source": [
        "dados = [\n",
        "    (\"luciana\", 22, \"assistente\", 2700),\n",
        "    (\"carlos\", 28, \"analista\", 5500)\n",
        "]"
      ],
      "metadata": {
        "id": "SEE5WQmWZCMu"
      },
      "execution_count": 15,
      "outputs": []
    },
    {
      "cell_type": "code",
      "source": [
        "df2 = spark.createDataFrame(dados, colunas)"
      ],
      "metadata": {
        "id": "7QbvK598aJ_5"
      },
      "execution_count": 16,
      "outputs": []
    },
    {
      "cell_type": "code",
      "source": [
        "df2.show()"
      ],
      "metadata": {
        "colab": {
          "base_uri": "https://localhost:8080/"
        },
        "id": "2kd0WiUVbAt4",
        "outputId": "15387442-ac55-457f-def2-ff68c93698e2"
      },
      "execution_count": 17,
      "outputs": [
        {
          "output_type": "stream",
          "name": "stdout",
          "text": [
            "+-------+-----+----------+-------+\n",
            "|   nome|idade|     cargo|salario|\n",
            "+-------+-----+----------+-------+\n",
            "|luciana|   22|assistente|   2700|\n",
            "| carlos|   28|  analista|   5500|\n",
            "+-------+-----+----------+-------+\n",
            "\n"
          ]
        }
      ]
    },
    {
      "cell_type": "code",
      "source": [
        "# Unindo os dois DataFrames\n",
        "df = df.union(df2)"
      ],
      "metadata": {
        "id": "UJ6WZmLxbDBt"
      },
      "execution_count": 18,
      "outputs": []
    },
    {
      "cell_type": "code",
      "source": [
        "df.show()"
      ],
      "metadata": {
        "colab": {
          "base_uri": "https://localhost:8080/"
        },
        "id": "yI0yEJ6UcIrX",
        "outputId": "bb720af5-1321-43e1-e6a8-120e9e9c3832"
      },
      "execution_count": 19,
      "outputs": [
        {
          "output_type": "stream",
          "name": "stdout",
          "text": [
            "+-------+-----+----------+-------+\n",
            "|   nome|idade|     cargo|salario|\n",
            "+-------+-----+----------+-------+\n",
            "|   joao|   25|  analista|   3800|\n",
            "|  maria|   38|  analista|   5500|\n",
            "| marcos|   22|estagiario|   1000|\n",
            "|  fabio|   35|assistente|   2500|\n",
            "|   luis|   40|   gerente|  11700|\n",
            "|    ana|   39|   gerente|  15900|\n",
            "|luciana|   22|assistente|   2700|\n",
            "| carlos|   28|  analista|   5500|\n",
            "+-------+-----+----------+-------+\n",
            "\n"
          ]
        }
      ]
    },
    {
      "cell_type": "code",
      "source": [
        "# Realizando algumas análises:\n",
        "\n",
        "## Mostre a média salarial dos analistas dessa empresa:\n",
        "df\\\n",
        "    .where(\"cargo == 'analista'\")\\\n",
        "    .agg(                         ### Agreggate\n",
        "        f.mean(\"salario\").alias(\"media_salario\"),\n",
        "        f.sum(\"salario\").alias(\"total_salario\")\n",
        "    )\\\n",
        "    .show()"
      ],
      "metadata": {
        "colab": {
          "base_uri": "https://localhost:8080/"
        },
        "id": "DfWbm1cZcKdM",
        "outputId": "1c7580b0-faef-44d3-f51a-9c1fbcd60bda"
      },
      "execution_count": 21,
      "outputs": [
        {
          "output_type": "stream",
          "name": "stdout",
          "text": [
            "+-----------------+-------------+\n",
            "|    media_salario|total_salario|\n",
            "+-----------------+-------------+\n",
            "|4933.333333333333|        14800|\n",
            "+-----------------+-------------+\n",
            "\n"
          ]
        }
      ]
    },
    {
      "cell_type": "code",
      "source": [
        "# Importando arquivos para o Spark\n",
        "url = '/content/drive/MyDrive/Colab Notebooks/Big_S3/empresas/part*'\n",
        "\n",
        "empresas = spark.read.options(header=True).csv(\n",
        "    url,\n",
        "    sep=\";\",               ### Separator\n",
        "    inferSchema=True\n",
        ")"
      ],
      "metadata": {
        "id": "B-58KRFoc7LO"
      },
      "execution_count": 22,
      "outputs": []
    },
    {
      "cell_type": "code",
      "source": [
        "empresas.count()"
      ],
      "metadata": {
        "colab": {
          "base_uri": "https://localhost:8080/"
        },
        "id": "N4l9aRjriBHO",
        "outputId": "3cf9a651-4025-4ae9-8b31-de6b5500b587"
      },
      "execution_count": 23,
      "outputs": [
        {
          "output_type": "execute_result",
          "data": {
            "text/plain": [
              "4585679"
            ]
          },
          "metadata": {},
          "execution_count": 23
        }
      ]
    },
    {
      "cell_type": "code",
      "source": [
        "empresas.show()"
      ],
      "metadata": {
        "colab": {
          "base_uri": "https://localhost:8080/"
        },
        "id": "nlOnTjkCzc2v",
        "outputId": "2f4f1a6a-02e6-4e1c-ee36-df3339f968d2"
      },
      "execution_count": 28,
      "outputs": [
        {
          "output_type": "stream",
          "name": "stdout",
          "text": [
            "+-----+--------------------+-----------------+------------------------+--------------+-----+---------------+\n",
            "| cnpj|        razao_social|natureza_juridica|qualificacao_responsavel|capital_social|porte|ente_federativo|\n",
            "+-----+--------------------+-----------------+------------------------+--------------+-----+---------------+\n",
            "|  306|FRANCAMAR REFRIGE...|             2240|                      49|          0,00|    1|           NULL|\n",
            "| 1355|BRASILEIRO & OLIV...|             2062|                      49|          0,00|    5|           NULL|\n",
            "| 4820|REGISTRO DE IMOVE...|             3034|                      32|          0,00|    5|           NULL|\n",
            "| 5347|ROSELY APARECIDA ...|             2135|                      50|          0,00|    5|           NULL|\n",
            "| 6846|BADU E FILHOS TEC...|             2062|                      49|       4000,00|    1|           NULL|\n",
            "| 8416|  ELETRICA RUBI LTDA|             2062|                      49|          0,00|    5|           NULL|\n",
            "| 8992|SHIROMA VEICULOS ...|             2062|                      49|          0,00|    5|           NULL|\n",
            "| 9091|CONTATOS BAR E LA...|             2062|                      49|          0,00|    5|           NULL|\n",
            "| 9614|ANTONIA APARECIDA...|             2135|                      50|          0,00|    5|           NULL|\n",
            "| 9896|DORACY CORAT DA C...|             2135|                      50|          0,00|    5|           NULL|\n",
            "|12112|LANCHONETE RIO VE...|             2062|                      49|          0,00|    5|           NULL|\n",
            "|12605|VALMAR JACAREI CO...|             2062|                      49|          0,00|    5|           NULL|\n",
            "|13407|ROSANA CRISTINA D...|             2135|                      50|          0,00|    5|           NULL|\n",
            "|13408|CELIO RODRIGUES D...|             2135|                      50|          0,00|    5|           NULL|\n",
            "|13721|MAQFRAN COMERCIO ...|             2062|                      49|          0,00|    1|           NULL|\n",
            "|21181|MOURA & SILVA MER...|             2062|                      49|          0,00|    5|           NULL|\n",
            "|21858|PAMARATI COMERCIO...|             2135|                      50|          0,00|    1|           NULL|\n",
            "|22277|INACIO RODRIGUES ...|             2135|                      50|          0,00|    5|           NULL|\n",
            "|24205|SUELY LEME MARI A...|             2135|                      50|       1000,00|    1|           NULL|\n",
            "|26805|SUELI BATISTA DA ...|             2135|                      50|          0,00|    5|           NULL|\n",
            "+-----+--------------------+-----------------+------------------------+--------------+-----+---------------+\n",
            "only showing top 20 rows\n",
            "\n"
          ]
        }
      ]
    },
    {
      "cell_type": "code",
      "source": [
        "empresas.show(truncate=False)"
      ],
      "metadata": {
        "colab": {
          "base_uri": "https://localhost:8080/"
        },
        "id": "RjwFJF0B0UW4",
        "outputId": "5b3d6134-40e9-4bdf-9057-6e3eb8065ffd"
      },
      "execution_count": 29,
      "outputs": [
        {
          "output_type": "stream",
          "name": "stdout",
          "text": [
            "+-----+--------------------------------------------------------------------------------------------+-----------------+------------------------+--------------+-----+---------------+\n",
            "|cnpj |razao_social                                                                                |natureza_juridica|qualificacao_responsavel|capital_social|porte|ente_federativo|\n",
            "+-----+--------------------------------------------------------------------------------------------+-----------------+------------------------+--------------+-----+---------------+\n",
            "|306  |FRANCAMAR REFRIGERACAO TECNICA S/C LTDA                                                     |2240             |49                      |0,00          |1    |NULL           |\n",
            "|1355 |BRASILEIRO & OLIVEIRA LTDA                                                                  |2062             |49                      |0,00          |5    |NULL           |\n",
            "|4820 |REGISTRO DE IMOVEIS, TABELIONATO 1 DE NOTAS E TABELIONATO E REGISTRO DE CONSTRATOS MARITIMOS|3034             |32                      |0,00          |5    |NULL           |\n",
            "|5347 |ROSELY APARECIDA MONTEIRO CALTABIANO FREITAS                                                |2135             |50                      |0,00          |5    |NULL           |\n",
            "|6846 |BADU E FILHOS TECIDOS LTDA                                                                  |2062             |49                      |4000,00       |1    |NULL           |\n",
            "|8416 |ELETRICA RUBI LTDA                                                                          |2062             |49                      |0,00          |5    |NULL           |\n",
            "|8992 |SHIROMA VEICULOS LTDA.                                                                      |2062             |49                      |0,00          |5    |NULL           |\n",
            "|9091 |CONTATOS BAR E LANCHONETE LTDA                                                              |2062             |49                      |0,00          |5    |NULL           |\n",
            "|9614 |ANTONIA APARECIDA DE SOUZA ULIANA                                                           |2135             |50                      |0,00          |5    |NULL           |\n",
            "|9896 |DORACY CORAT DA COSTA                                                                       |2135             |50                      |0,00          |5    |NULL           |\n",
            "|12112|LANCHONETE RIO VERMELHO LTDA                                                                |2062             |49                      |0,00          |5    |NULL           |\n",
            "|12605|VALMAR JACAREI COMERCIO DE PRODUTOS ALIMENTIC LTDA                                          |2062             |49                      |0,00          |5    |NULL           |\n",
            "|13407|ROSANA CRISTINA DUARTE RODRIGUES SERRALHERIA                                                |2135             |50                      |0,00          |5    |NULL           |\n",
            "|13408|CELIO RODRIGUES DE MORAES DEPOSITO DE BANANAS                                               |2135             |50                      |0,00          |5    |NULL           |\n",
            "|13721|MAQFRAN COMERCIO DE PECAS LTDA                                                              |2062             |49                      |0,00          |1    |NULL           |\n",
            "|21181|MOURA & SILVA MERCEARIA LIMITADA                                                            |2062             |49                      |0,00          |5    |NULL           |\n",
            "|21858|PAMARATI COMERCIO DE RACOES LTDA                                                            |2135             |50                      |0,00          |1    |NULL           |\n",
            "|22277|INACIO RODRIGUES DO NASCIMENTO                                                              |2135             |50                      |0,00          |5    |NULL           |\n",
            "|24205|SUELY LEME MARI ANI 25086572800                                                             |2135             |50                      |1000,00       |1    |NULL           |\n",
            "|26805|SUELI BATISTA DA COSTA SILVA                                                                |2135             |50                      |0,00          |5    |NULL           |\n",
            "+-----+--------------------------------------------------------------------------------------------+-----------------+------------------------+--------------+-----+---------------+\n",
            "only showing top 20 rows\n",
            "\n"
          ]
        }
      ]
    },
    {
      "cell_type": "code",
      "source": [
        "empresas.show(10, False)"
      ],
      "metadata": {
        "colab": {
          "base_uri": "https://localhost:8080/"
        },
        "id": "xaslVDjG0ye4",
        "outputId": "6901a566-f11f-4436-c4e1-d567028ebc8d"
      },
      "execution_count": 30,
      "outputs": [
        {
          "output_type": "stream",
          "name": "stdout",
          "text": [
            "+----+--------------------------------------------------------------------------------------------+-----------------+------------------------+--------------+-----+---------------+\n",
            "|cnpj|razao_social                                                                                |natureza_juridica|qualificacao_responsavel|capital_social|porte|ente_federativo|\n",
            "+----+--------------------------------------------------------------------------------------------+-----------------+------------------------+--------------+-----+---------------+\n",
            "|306 |FRANCAMAR REFRIGERACAO TECNICA S/C LTDA                                                     |2240             |49                      |0,00          |1    |NULL           |\n",
            "|1355|BRASILEIRO & OLIVEIRA LTDA                                                                  |2062             |49                      |0,00          |5    |NULL           |\n",
            "|4820|REGISTRO DE IMOVEIS, TABELIONATO 1 DE NOTAS E TABELIONATO E REGISTRO DE CONSTRATOS MARITIMOS|3034             |32                      |0,00          |5    |NULL           |\n",
            "|5347|ROSELY APARECIDA MONTEIRO CALTABIANO FREITAS                                                |2135             |50                      |0,00          |5    |NULL           |\n",
            "|6846|BADU E FILHOS TECIDOS LTDA                                                                  |2062             |49                      |4000,00       |1    |NULL           |\n",
            "|8416|ELETRICA RUBI LTDA                                                                          |2062             |49                      |0,00          |5    |NULL           |\n",
            "|8992|SHIROMA VEICULOS LTDA.                                                                      |2062             |49                      |0,00          |5    |NULL           |\n",
            "|9091|CONTATOS BAR E LANCHONETE LTDA                                                              |2062             |49                      |0,00          |5    |NULL           |\n",
            "|9614|ANTONIA APARECIDA DE SOUZA ULIANA                                                           |2135             |50                      |0,00          |5    |NULL           |\n",
            "|9896|DORACY CORAT DA COSTA                                                                       |2135             |50                      |0,00          |5    |NULL           |\n",
            "+----+--------------------------------------------------------------------------------------------+-----------------+------------------------+--------------+-----+---------------+\n",
            "only showing top 10 rows\n",
            "\n"
          ]
        }
      ]
    },
    {
      "cell_type": "code",
      "source": [
        "url = '/content/drive/MyDrive/Colab Notebooks/Big_S3/estabelecimentos/part*'\n",
        "\n",
        "estab = spark.read.options(header=True).csv(\n",
        "    url,\n",
        "    sep=\";\",               ### Separator\n",
        "    inferSchema=True\n",
        ")"
      ],
      "metadata": {
        "id": "hYsZh4GWiDGu"
      },
      "execution_count": 24,
      "outputs": []
    },
    {
      "cell_type": "code",
      "source": [
        "estab.count()"
      ],
      "metadata": {
        "colab": {
          "base_uri": "https://localhost:8080/"
        },
        "id": "9RFeK_aMy-ec",
        "outputId": "410d88bd-5dd4-4b75-afe8-3e99d5dbabe0"
      },
      "execution_count": 25,
      "outputs": [
        {
          "output_type": "execute_result",
          "data": {
            "text/plain": [
              "4836219"
            ]
          },
          "metadata": {},
          "execution_count": 25
        }
      ]
    },
    {
      "cell_type": "code",
      "source": [
        "url = '/content/drive/MyDrive/Colab Notebooks/Big_S3/socios/part*'\n",
        "\n",
        "socios = spark.read.options(header=True).csv(\n",
        "    url,\n",
        "    sep=\";\",               ### Separator\n",
        "    inferSchema=True\n",
        ")"
      ],
      "metadata": {
        "id": "_3ZwD-0WzM6w"
      },
      "execution_count": 26,
      "outputs": []
    },
    {
      "cell_type": "code",
      "source": [
        "socios.count()"
      ],
      "metadata": {
        "colab": {
          "base_uri": "https://localhost:8080/"
        },
        "id": "Xi-FngcozT0P",
        "outputId": "867dd7f1-d6cc-44e5-aad5-2c3460c738b0"
      },
      "execution_count": 27,
      "outputs": [
        {
          "output_type": "execute_result",
          "data": {
            "text/plain": [
              "2046430"
            ]
          },
          "metadata": {},
          "execution_count": 27
        }
      ]
    },
    {
      "cell_type": "code",
      "source": [],
      "metadata": {
        "id": "CGmJBN7czYAf"
      },
      "execution_count": null,
      "outputs": []
    }
  ]
}